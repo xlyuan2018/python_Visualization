{
 "cells": [
  {
   "cell_type": "code",
   "execution_count": 3,
   "metadata": {},
   "outputs": [],
   "source": [
    "# get multiple outputs in jupyter notebook\n",
    "from IPython.core.interactiveshell import InteractiveShell\n",
    "InteractiveShell.ast_node_interactivity = \"all\""
   ]
  },
  {
   "cell_type": "code",
   "execution_count": 1,
   "metadata": {},
   "outputs": [],
   "source": [
    "import csv\n",
    "import numpy as np\n",
    "import pandas as pd\n",
    "import requests\n",
    "from collections import Counter\n",
    "from matplotlib import pyplot as plt"
   ]
  },
  {
   "cell_type": "code",
   "execution_count": 4,
   "metadata": {},
   "outputs": [
    {
     "name": "stdout",
     "output_type": "stream",
     "text": [
      "(87569, 2)\n",
      "Index(['Responder_id', 'LanguagesWorkedWith'], dtype='object')\n",
      "   Responder_id              LanguagesWorkedWith\n",
      "0             1  HTML/CSS;Java;JavaScript;Python\n",
      "1             2              C++;HTML/CSS;Python\n",
      "2             3                         HTML/CSS\n",
      "RangeIndex(start=0, stop=87569, step=1)\n"
     ]
    }
   ],
   "source": [
    "data = pd.read_csv('downloaded.csv')\n",
    "print(data.shape)\n",
    "print(data.columns)\n",
    "print(data.head(3))\n",
    "print(data.index)"
   ]
  },
  {
   "cell_type": "code",
   "execution_count": 5,
   "metadata": {},
   "outputs": [
    {
     "name": "stdout",
     "output_type": "stream",
     "text": [
      "{'Responder_id': '1', 'LanguagesWorkedWith': 'HTML/CSS;Java;JavaScript;Python'}\n",
      "HTML/CSS;Java;JavaScript;Python\n",
      "['HTML/CSS', 'Java', 'JavaScript', 'Python']\n",
      "Counter()\n",
      "[('JavaScript', 59218), ('HTML/CSS', 55465), ('SQL', 47544), ('Python', 36442), ('Java', 35916), ('Bash/Shell/PowerShell', 31991), ('C#', 27097), ('PHP', 23030), ('C++', 20524), ('TypeScript', 18523), ('C', 18017), ('Other(s):', 7920), ('Ruby', 7331), ('Go', 7201), ('Assembly', 5833)]\n"
     ]
    }
   ],
   "source": [
    "# read csv file row by row, row is in dict type\n",
    "with open('downloaded.csv') as csv_file:\n",
    "    csv_reader = csv.DictReader(csv_file)\n",
    "\n",
    "    row = next(csv_reader)\n",
    "    print(row)\n",
    "    print(row['LanguagesWorkedWith'])\n",
    "    print(row['LanguagesWorkedWith'].split(';'))\n",
    "\n",
    "# use collection.counter to collect all programming languages row by row\n",
    "    language_counter = Counter()\n",
    "    print(language_counter)\n",
    "    for row in csv_reader:\n",
    "        language_counter.update(row['LanguagesWorkedWith'].split(';'))\n",
    "    # # print(language_counter)\n",
    "    print(language_counter.most_common(15))"
   ]
  },
  {
   "cell_type": "code",
   "execution_count": 6,
   "metadata": {},
   "outputs": [
    {
     "name": "stdout",
     "output_type": "stream",
     "text": [
      "Counter({'Python': 1, 'Javascript': 1})\n",
      "Counter({'Python': 2, 'Javascript': 1, 'C++': 1})\n",
      "Counter({'Python': 3, 'Javascript': 2, 'C++': 2})\n"
     ]
    }
   ],
   "source": [
    "# see how Counter works\n",
    "from collections import Counter\n",
    "c = Counter(['Python', 'Javascript'])\n",
    "print(c)\n",
    "c.update(['C++', 'Python'])\n",
    "print(c)\n",
    "c.update(['C++', 'Javascript', 'Python'])\n",
    "print(c)"
   ]
  },
  {
   "cell_type": "code",
   "execution_count": 14,
   "metadata": {},
   "outputs": [
    {
     "name": "stdout",
     "output_type": "stream",
     "text": [
      "Counter({'JavaScript': 59219, 'HTML/CSS': 55466, 'SQL': 47544, 'Python': 36443, 'Java': 35917, 'Bash/Shell/PowerShell': 31991, 'C#': 27097, 'PHP': 23030, 'C++': 20524, 'TypeScript': 18523, 'C': 18017, 'Other(s):': 7920, 'Ruby': 7331, 'Go': 7201, 'Assembly': 5833, 'Swift': 5744, 'Kotlin': 5620, 'R': 5048, 'VBA': 4781, 'Objective-C': 4191, 'Scala': 3309, 'Rust': 2794, 'Dart': 1683, 'Elixir': 1260, 'Clojure': 1254, 'WebAssembly': 1015, 'F#': 973, 'Erlang': 777})\n",
      "('JavaScript', 59219)\n",
      "('HTML/CSS', 55466)\n",
      "('SQL', 47544)\n",
      "('Python', 36443)\n",
      "('Java', 35917)\n"
     ]
    }
   ],
   "source": [
    "# use pandas to read csv data\n",
    "data = pd.read_csv('downloaded.csv')\n",
    "\n",
    "\n",
    "ids = data['Responder_id']\n",
    "lang_responses = data['LanguagesWorkedWith']\n",
    "\n",
    "language_counter = Counter()\n",
    "\n",
    "for response in lang_responses:\n",
    "    language_counter.update(response.split(';'))\n",
    "\n",
    "print(language_counter)\n",
    "# print(type(language_counter)) # not dict type\n",
    "\n",
    "for item in language_counter.most_common(5):\n",
    "    print(item)"
   ]
  },
  {
   "cell_type": "code",
   "execution_count": 15,
   "metadata": {},
   "outputs": [],
   "source": [
    "languages = []\n",
    "popularity = []\n",
    "\n",
    "for item in language_counter.most_common(15):\n",
    "    languages.append(item[0])\n",
    "    popularity.append(item[1])"
   ]
  },
  {
   "cell_type": "code",
   "execution_count": 17,
   "metadata": {},
   "outputs": [
    {
     "data": {
      "text/plain": [
       "['JavaScript',\n",
       " 'HTML/CSS',\n",
       " 'SQL',\n",
       " 'Python',\n",
       " 'Java',\n",
       " 'Bash/Shell/PowerShell',\n",
       " 'C#',\n",
       " 'PHP',\n",
       " 'C++',\n",
       " 'TypeScript',\n",
       " 'C',\n",
       " 'Other(s):',\n",
       " 'Ruby',\n",
       " 'Go',\n",
       " 'Assembly']"
      ]
     },
     "execution_count": 17,
     "metadata": {},
     "output_type": "execute_result"
    },
    {
     "data": {
      "text/plain": [
       "[59219,\n",
       " 55466,\n",
       " 47544,\n",
       " 36443,\n",
       " 35917,\n",
       " 31991,\n",
       " 27097,\n",
       " 23030,\n",
       " 20524,\n",
       " 18523,\n",
       " 18017,\n",
       " 7920,\n",
       " 7331,\n",
       " 7201,\n",
       " 5833]"
      ]
     },
     "execution_count": 17,
     "metadata": {},
     "output_type": "execute_result"
    }
   ],
   "source": [
    "languages\n",
    "popularity"
   ]
  },
  {
   "cell_type": "code",
   "execution_count": 8,
   "metadata": {},
   "outputs": [],
   "source": [
    "plt.style.use(\"fivethirtyeight\")"
   ]
  },
  {
   "cell_type": "code",
   "execution_count": 20,
   "metadata": {},
   "outputs": [
    {
     "data": {
      "text/plain": [
       "<BarContainer object of 15 artists>"
      ]
     },
     "execution_count": 20,
     "metadata": {},
     "output_type": "execute_result"
    },
    {
     "data": {
      "text/plain": [
       "Text(0.5, 1.0, 'Most Popular Languages')"
      ]
     },
     "execution_count": 20,
     "metadata": {},
     "output_type": "execute_result"
    },
    {
     "data": {
      "text/plain": [
       "Text(0.5, 0, 'Number of People Who Use')"
      ]
     },
     "execution_count": 20,
     "metadata": {},
     "output_type": "execute_result"
    },
    {
     "data": {
      "image/png": "[encoded data removed]",
      "text/plain": [
       "<Figure size 432x288 with 1 Axes>"
      ]
     },
     "metadata": {},
     "output_type": "display_data"
    }
   ],
   "source": [
    "# use horizontal bar for better view\n",
    "plt.barh(languages, popularity)\n",
    "# plt.bar(languages, popularity)\n",
    "\n",
    "plt.title(\"Most Popular Languages\")\n",
    "# plt.ylabel(\"Programming Languages\")\n",
    "plt.xlabel(\"Number of People Who Use\")\n",
    "\n",
    "plt.tight_layout()"
   ]
  },
  {
   "cell_type": "code",
   "execution_count": 19,
   "metadata": {},
   "outputs": [
    {
     "data": {
      "text/plain": [
       "<BarContainer object of 15 artists>"
      ]
     },
     "execution_count": 19,
     "metadata": {},
     "output_type": "execute_result"
    },
    {
     "data": {
      "text/plain": [
       "Text(0.5, 1.0, 'Most Popular Languages')"
      ]
     },
     "execution_count": 19,
     "metadata": {},
     "output_type": "execute_result"
    },
    {
     "data": {
      "text/plain": [
       "Text(0.5, 0, 'Number of People Who Use')"
      ]
     },
     "execution_count": 19,
     "metadata": {},
     "output_type": "execute_result"
    },
    {
     "data": {
      "image/png": "[encoded data removed]",
      "text/plain": [
       "<Figure size 432x288 with 1 Axes>"
      ]
     },
     "metadata": {},
     "output_type": "display_data"
    }
   ],
   "source": [
    "# reverse the order of object directly\n",
    "languages.reverse()\n",
    "popularity.reverse()\n",
    "\n",
    "# use horizontal bar for better view\n",
    "plt.barh(languages, popularity)\n",
    "\n",
    "plt.title(\"Most Popular Languages\")\n",
    "plt.xlabel(\"Number of People Who Use\")\n",
    "\n",
    "plt.tight_layout()"
   ]
  },
  {
   "cell_type": "code",
   "execution_count": null,
   "metadata": {},
   "outputs": [],
   "source": []
  },
  {
   "cell_type": "code",
   "execution_count": null,
   "metadata": {},
   "outputs": [],
   "source": []
  }
 ],
 "metadata": {
  "kernelspec": {
   "display_name": "Python 3",
   "language": "python",
   "name": "python3"
  },
  "language_info": {
   "codemirror_mode": {
    "name": "ipython",
    "version": 3
   },
   "file_extension": ".py",
   "mimetype": "text/x-python",
   "name": "python",
   "nbconvert_exporter": "python",
   "pygments_lexer": "ipython3",
   "version": "3.8.3"
  }
 },
 "nbformat": 4,
 "nbformat_minor": 4
}
